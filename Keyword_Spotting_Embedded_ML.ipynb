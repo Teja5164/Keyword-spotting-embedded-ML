{
  "nbformat": 4,
  "nbformat_minor": 0,
  "metadata": {
    "colab": {
      "provenance": [],
      "authorship_tag": "ABX9TyPY+fel4WNNK2SXkxhWsntx",
      "include_colab_link": true
    },
    "kernelspec": {
      "name": "python3",
      "display_name": "Python 3"
    },
    "language_info": {
      "name": "python"
    }
  },
  "cells": [
    {
      "cell_type": "markdown",
      "metadata": {
        "id": "view-in-github",
        "colab_type": "text"
      },
      "source": [
        "<a href=\"https://colab.research.google.com/github/Teja5164/Keyword-spotting-embedded-ML/blob/main/Keyword_Spotting_Embedded_ML.ipynb\" target=\"_parent\"><img src=\"https://colab.research.google.com/assets/colab-badge.svg\" alt=\"Open In Colab\"/></a>"
      ]
    },
    {
      "cell_type": "markdown",
      "source": [
        "Install Libraries"
      ],
      "metadata": {
        "id": "_HXR-4mDZvHj"
      }
    },
    {
      "cell_type": "code",
      "source": [
        "!pip install numpy==1.23.5\n",
        "!pip install tensorflow==2.12 librosa matplotlib scikit-learn"
      ],
      "metadata": {
        "id": "NPLCl3KDXZnY"
      },
      "execution_count": null,
      "outputs": []
    },
    {
      "cell_type": "markdown",
      "source": [
        "Download Dataset"
      ],
      "metadata": {
        "id": "lZX2beU8YbI_"
      }
    },
    {
      "cell_type": "code",
      "source": [
        "import os\n",
        "import tensorflow as tf\n",
        "import pathlib\n",
        "\n",
        "DATASET_PATH = tf.keras.utils.get_file(\n",
        "    'speech_commands_v0.02.tar.gz',\n",
        "    origin='http://download.tensorflow.org/data/speech_commands_v0.02.tar.gz',\n",
        "    extract=True\n",
        ")\n",
        "\n",
        "DATASET_DIR = pathlib.Path(DATASET_PATH).parent / \"speech_commands\"\n",
        "print(\"Dataset directory:\", DATASET_DIR)"
      ],
      "metadata": {
        "id": "HSUkTaxYXdLz"
      },
      "execution_count": null,
      "outputs": []
    },
    {
      "cell_type": "markdown",
      "source": [
        "Selection of Keywords"
      ],
      "metadata": {
        "id": "VkosSw1nY27U"
      }
    },
    {
      "cell_type": "code",
      "source": [
        "# Pick 5 keywords\n",
        "\n",
        "KEYWORDS = ['stop', 'go', 'left', 'right', 'yes']\n",
        "# Background noise folder: '_background_noise_'"
      ],
      "metadata": {
        "id": "FvVikt2cXsY1"
      },
      "execution_count": null,
      "outputs": []
    },
    {
      "cell_type": "markdown",
      "source": [
        "Preprocessing"
      ],
      "metadata": {
        "id": "WeE-iO4CY_nN"
      }
    },
    {
      "cell_type": "code",
      "source": [
        "import librosa\n",
        "import numpy as np\n",
        "\n",
        "def extract_mfcc(file_path, sr=16000, n_mfcc=13):\n",
        "    y, sr = librosa.load(file_path, sr=sr)\n",
        "    mfcc = librosa.feature.mfcc(y=y, sr=sr, n_mfcc=n_mfcc)\n",
        "    return mfcc.T  # Shape (time_steps, n_mfcc)"
      ],
      "metadata": {
        "id": "CaAqMxKIX9PF"
      },
      "execution_count": null,
      "outputs": []
    },
    {
      "cell_type": "markdown",
      "source": [
        "Load dataset and prepare X,Y"
      ],
      "metadata": {
        "id": "qWxJGK9WZHFH"
      }
    },
    {
      "cell_type": "code",
      "source": [
        "import glob\n",
        "\n",
        "X = []\n",
        "y = []\n",
        "\n",
        "for idx, kw in enumerate(KEYWORDS):\n",
        "    files = glob.glob(str(DATASET_DIR / kw / '*.wav'))\n",
        "    for f in files:\n",
        "        mfcc = extract_mfcc(f)\n",
        "        if mfcc.shape[0] >= 50:\n",
        "            mfcc = mfcc[:50, :]  # Fix length\n",
        "            X.append(mfcc)\n",
        "            y.append(idx)\n",
        "\n",
        "X = np.array(X)\n",
        "y = np.array(y)\n",
        "\n",
        "print(\"Data shape:\", X.shape)"
      ],
      "metadata": {
        "id": "F9kLbJVwX_2L"
      },
      "execution_count": null,
      "outputs": []
    },
    {
      "cell_type": "markdown",
      "source": [
        "Build and train CNN modeling"
      ],
      "metadata": {
        "id": "XkfzwjLbZSoB"
      }
    },
    {
      "cell_type": "code",
      "source": [
        "from tensorflow.keras import layers, models\n",
        "\n",
        "model = models.Sequential([\n",
        "    layers.Input(shape=(50, 13, 1)),\n",
        "    layers.Conv2D(32, (3,3), activation='relu'),\n",
        "    layers.MaxPooling2D((2,2)),\n",
        "    layers.Conv2D(64, (3,3), activation='relu'),\n",
        "    layers.MaxPooling2D((2,2)),\n",
        "    layers.Flatten(),\n",
        "    layers.Dense(128, activation='relu'),\n",
        "    layers.Dense(len(KEYWORDS), activation='softmax')\n",
        "])\n",
        "\n",
        "model.compile(optimizer='adam', loss='sparse_categorical_crossentropy', metrics=['accuracy'])\n",
        "model.summary()\n",
        "\n",
        "# Reshape X for CNN\n",
        "X_cnn = X[..., np.newaxis]\n",
        "\n",
        "# Train model\n",
        "model.fit(X_cnn, y, epochs=10, batch_size=32, validation_split=0.2)"
      ],
      "metadata": {
        "id": "yJrvT0nwYH_J"
      },
      "execution_count": null,
      "outputs": []
    },
    {
      "cell_type": "markdown",
      "source": [
        "Convert to TFLite Model"
      ],
      "metadata": {
        "id": "lcvSi9JNZa4q"
      }
    },
    {
      "cell_type": "code",
      "source": [
        "converter = tf.lite.TFLiteConverter.from_keras_model(model)\n",
        "tflite_model = converter.convert()\n",
        "\n",
        "# Save .tflite file\n",
        "with open('kws_model.tflite', 'wb') as f:\n",
        "    f.write(tflite_model)\n",
        "\n",
        "print(\"TFLite model saved!\")"
      ],
      "metadata": {
        "id": "zatrAitEYM2x"
      },
      "execution_count": null,
      "outputs": []
    },
    {
      "cell_type": "markdown",
      "source": [
        "Test TFLite model"
      ],
      "metadata": {
        "id": "7l52YtVZZm73"
      }
    },
    {
      "cell_type": "code",
      "source": [
        "interpreter = tf.lite.Interpreter(model_path='kws_model.tflite')\n",
        "interpreter.allocate_tensors()\n",
        "\n",
        "input_details = interpreter.get_input_details()\n",
        "output_details = interpreter.get_output_details()\n",
        "\n",
        "# Example test — using first sample\n",
        "sample_input = X_cnn[0:1]\n",
        "\n",
        "interpreter.set_tensor(input_details[0]['index'], sample_input)\n",
        "interpreter.invoke()\n",
        "output = interpreter.get_tensor(output_details[0]['index'])\n",
        "\n",
        "predicted_label = np.argmax(output)\n",
        "print(\"Predicted label:\", KEYWORDS[predicted_label])"
      ],
      "metadata": {
        "id": "tfcs_11RYTeA"
      },
      "execution_count": null,
      "outputs": []
    }
  ]
}